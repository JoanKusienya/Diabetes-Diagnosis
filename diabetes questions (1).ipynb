{
 "cells": [
  {
   "cell_type": "markdown",
   "metadata": {},
   "source": [
    "# 0. Diabetes Classification\n",
    "\n",
    "Answer the following questions based on `Diabetes Classification.csv`.\n",
    "\n",
    "**About this file**\n",
    "\n",
    "Age: Represents the age of the patient in years. Age can be a risk factor for diabetes, as the risk of diabetes increases with age.\n",
    "\n",
    "Gender: Indicates the gender of the patient, which can be a factor in the prediction of diabetes. Some studies suggest that women may have a different risk than men in developing diabetes.\n",
    "\n",
    "Body Mass Index (BMI): BMI is a measure that uses a person's height and weight to determine whether they are in the normal weight, overweight, or obese category. A high BMI is associated with a higher risk of diabetes.\n",
    "\n",
    "Chol: total cholesterol level in the blood. Cholesterol is a fat found in the blood and can come from foods consumed and also be produced by the body. High cholesterol can be a risk factor for heart disease and diabetes.\n",
    "\n",
    "TG (Triglycerides): Represents the level of triglycerides in the blood. Triglycerides are a type of fat found in the blood, and high levels can also increase the risk of heart disease and diabetes.\n",
    "\n",
    "HDL (High-Density Lipoprotein): Is the \"good\" cholesterol that helps transport excess cholesterol from body tissues back to the liver for further processing or excretion. High levels of HDL are usually considered good for heart health.\n",
    "\n",
    "LDL (Low-Density Lipoprotein): Is the \"bad\" cholesterol that can cause plaque buildup in the arteries, increasing the risk of heart disease and stroke. High LDL levels can be a risk factor for diabetes.\n",
    "\n",
    "Cr (Creatinine): A waste product of muscle metabolism that is excreted from the body through the kidneys. Creatinine levels in the blood can provide information about kidney function. Kidney disease may be linked to the risk of diabetes.\n",
    "\n",
    "BUN (Blood Urea Nitrogen): Is a measure used to evaluate kidney and liver function. High levels of BUN may indicate kidney or liver disorders that can be related to diabetes.\n",
    "\n",
    "Diagonisis: An indicator that someone has diabetes."
   ]
  },
  {
   "cell_type": "markdown",
   "metadata": {},
   "source": [
    "### Question 1: Initial Data Exploration\n",
    "- **a.** Load the dataset and remove any unnamed or index columns that are not relevant to the analysis. How many columns and rows are present after this operation?\n",
    "- **b.** What types of data (e.g., numerical, categorical, boolean, ordinal) are present in this dataset?\n",
    "- **c.** Identify and display the statistical summary for numerical attributes.\n"
   ]
  },
  {
   "cell_type": "markdown",
   "metadata": {},
   "source": [
    "# Answer 1a\n",
    "- Load the data\n",
    "- Get number of rows and columns"
   ]
  },
  {
   "cell_type": "code",
   "execution_count": 4,
   "metadata": {},
   "outputs": [
    {
     "name": "stdout",
     "output_type": "stream",
     "text": [
      "Original number of rows: 5132\n",
      "Original number of columns: 11\n"
     ]
    },
    {
     "data": {
      "text/html": [
       "<div>\n",
       "<style scoped>\n",
       "    .dataframe tbody tr th:only-of-type {\n",
       "        vertical-align: middle;\n",
       "    }\n",
       "\n",
       "    .dataframe tbody tr th {\n",
       "        vertical-align: top;\n",
       "    }\n",
       "\n",
       "    .dataframe thead th {\n",
       "        text-align: right;\n",
       "    }\n",
       "</style>\n",
       "<table border=\"1\" class=\"dataframe\">\n",
       "  <thead>\n",
       "    <tr style=\"text-align: right;\">\n",
       "      <th></th>\n",
       "      <th>Unnamed: 0</th>\n",
       "      <th>Age</th>\n",
       "      <th>Gender</th>\n",
       "      <th>BMI</th>\n",
       "      <th>Chol</th>\n",
       "      <th>TG</th>\n",
       "      <th>HDL</th>\n",
       "      <th>LDL</th>\n",
       "      <th>Cr</th>\n",
       "      <th>BUN</th>\n",
       "      <th>Diagnosis</th>\n",
       "    </tr>\n",
       "  </thead>\n",
       "  <tbody>\n",
       "    <tr>\n",
       "      <th>0</th>\n",
       "      <td>0</td>\n",
       "      <td>50</td>\n",
       "      <td>F</td>\n",
       "      <td>24</td>\n",
       "      <td>4.2</td>\n",
       "      <td>0.9</td>\n",
       "      <td>2.4</td>\n",
       "      <td>1.4</td>\n",
       "      <td>46.0</td>\n",
       "      <td>4.7</td>\n",
       "      <td>0</td>\n",
       "    </tr>\n",
       "    <tr>\n",
       "      <th>1</th>\n",
       "      <td>1</td>\n",
       "      <td>26</td>\n",
       "      <td>M</td>\n",
       "      <td>23</td>\n",
       "      <td>3.7</td>\n",
       "      <td>1.4</td>\n",
       "      <td>1.1</td>\n",
       "      <td>2.1</td>\n",
       "      <td>62.0</td>\n",
       "      <td>4.5</td>\n",
       "      <td>0</td>\n",
       "    </tr>\n",
       "    <tr>\n",
       "      <th>2</th>\n",
       "      <td>2</td>\n",
       "      <td>33</td>\n",
       "      <td>M</td>\n",
       "      <td>21</td>\n",
       "      <td>4.9</td>\n",
       "      <td>1.0</td>\n",
       "      <td>0.8</td>\n",
       "      <td>2.0</td>\n",
       "      <td>46.0</td>\n",
       "      <td>7.1</td>\n",
       "      <td>0</td>\n",
       "    </tr>\n",
       "    <tr>\n",
       "      <th>3</th>\n",
       "      <td>3</td>\n",
       "      <td>45</td>\n",
       "      <td>F</td>\n",
       "      <td>21</td>\n",
       "      <td>2.9</td>\n",
       "      <td>1.0</td>\n",
       "      <td>1.0</td>\n",
       "      <td>1.5</td>\n",
       "      <td>24.0</td>\n",
       "      <td>2.3</td>\n",
       "      <td>0</td>\n",
       "    </tr>\n",
       "    <tr>\n",
       "      <th>4</th>\n",
       "      <td>4</td>\n",
       "      <td>50</td>\n",
       "      <td>F</td>\n",
       "      <td>24</td>\n",
       "      <td>3.6</td>\n",
       "      <td>1.3</td>\n",
       "      <td>0.9</td>\n",
       "      <td>2.1</td>\n",
       "      <td>50.0</td>\n",
       "      <td>2.0</td>\n",
       "      <td>0</td>\n",
       "    </tr>\n",
       "  </tbody>\n",
       "</table>\n",
       "</div>"
      ],
      "text/plain": [
       "   Unnamed: 0  Age Gender  BMI  Chol   TG  HDL  LDL    Cr  BUN  Diagnosis\n",
       "0           0   50      F   24   4.2  0.9  2.4  1.4  46.0  4.7          0\n",
       "1           1   26      M   23   3.7  1.4  1.1  2.1  62.0  4.5          0\n",
       "2           2   33      M   21   4.9  1.0  0.8  2.0  46.0  7.1          0\n",
       "3           3   45      F   21   2.9  1.0  1.0  1.5  24.0  2.3          0\n",
       "4           4   50      F   24   3.6  1.3  0.9  2.1  50.0  2.0          0"
      ]
     },
     "execution_count": 4,
     "metadata": {},
     "output_type": "execute_result"
    }
   ],
   "source": [
    "\n",
    "import pandas as pd\n",
    "df = pd.read_csv('Diabetes Classification1.csv')\n",
    "\n",
    "num_rows, num_columns = df.shape\n",
    "\n",
    "#Original number of columns and rows\n",
    "print(f\"Original number of rows: {num_rows}\")\n",
    "print(f\"Original number of columns: {num_columns}\")\n",
    "\n",
    "df.head()\n"
   ]
  },
  {
   "cell_type": "markdown",
   "metadata": {},
   "source": [
    "- Clean the data by removing unnecessary columns/ rows\n",
    "- Count columns/ rows present"
   ]
  },
  {
   "cell_type": "code",
   "execution_count": 6,
   "metadata": {},
   "outputs": [
    {
     "name": "stdout",
     "output_type": "stream",
     "text": [
      "Number of clean columns: 10\n"
     ]
    },
    {
     "data": {
      "text/html": [
       "<div>\n",
       "<style scoped>\n",
       "    .dataframe tbody tr th:only-of-type {\n",
       "        vertical-align: middle;\n",
       "    }\n",
       "\n",
       "    .dataframe tbody tr th {\n",
       "        vertical-align: top;\n",
       "    }\n",
       "\n",
       "    .dataframe thead th {\n",
       "        text-align: right;\n",
       "    }\n",
       "</style>\n",
       "<table border=\"1\" class=\"dataframe\">\n",
       "  <thead>\n",
       "    <tr style=\"text-align: right;\">\n",
       "      <th></th>\n",
       "      <th>Age</th>\n",
       "      <th>Gender</th>\n",
       "      <th>BMI</th>\n",
       "      <th>Chol</th>\n",
       "      <th>TG</th>\n",
       "      <th>HDL</th>\n",
       "      <th>LDL</th>\n",
       "      <th>Cr</th>\n",
       "      <th>BUN</th>\n",
       "      <th>Diagnosis</th>\n",
       "    </tr>\n",
       "  </thead>\n",
       "  <tbody>\n",
       "    <tr>\n",
       "      <th>0</th>\n",
       "      <td>50</td>\n",
       "      <td>F</td>\n",
       "      <td>24</td>\n",
       "      <td>4.2</td>\n",
       "      <td>0.9</td>\n",
       "      <td>2.4</td>\n",
       "      <td>1.4</td>\n",
       "      <td>46.0</td>\n",
       "      <td>4.7</td>\n",
       "      <td>0</td>\n",
       "    </tr>\n",
       "    <tr>\n",
       "      <th>1</th>\n",
       "      <td>26</td>\n",
       "      <td>M</td>\n",
       "      <td>23</td>\n",
       "      <td>3.7</td>\n",
       "      <td>1.4</td>\n",
       "      <td>1.1</td>\n",
       "      <td>2.1</td>\n",
       "      <td>62.0</td>\n",
       "      <td>4.5</td>\n",
       "      <td>0</td>\n",
       "    </tr>\n",
       "    <tr>\n",
       "      <th>2</th>\n",
       "      <td>33</td>\n",
       "      <td>M</td>\n",
       "      <td>21</td>\n",
       "      <td>4.9</td>\n",
       "      <td>1.0</td>\n",
       "      <td>0.8</td>\n",
       "      <td>2.0</td>\n",
       "      <td>46.0</td>\n",
       "      <td>7.1</td>\n",
       "      <td>0</td>\n",
       "    </tr>\n",
       "    <tr>\n",
       "      <th>3</th>\n",
       "      <td>45</td>\n",
       "      <td>F</td>\n",
       "      <td>21</td>\n",
       "      <td>2.9</td>\n",
       "      <td>1.0</td>\n",
       "      <td>1.0</td>\n",
       "      <td>1.5</td>\n",
       "      <td>24.0</td>\n",
       "      <td>2.3</td>\n",
       "      <td>0</td>\n",
       "    </tr>\n",
       "    <tr>\n",
       "      <th>4</th>\n",
       "      <td>50</td>\n",
       "      <td>F</td>\n",
       "      <td>24</td>\n",
       "      <td>3.6</td>\n",
       "      <td>1.3</td>\n",
       "      <td>0.9</td>\n",
       "      <td>2.1</td>\n",
       "      <td>50.0</td>\n",
       "      <td>2.0</td>\n",
       "      <td>0</td>\n",
       "    </tr>\n",
       "  </tbody>\n",
       "</table>\n",
       "</div>"
      ],
      "text/plain": [
       "   Age Gender  BMI  Chol   TG  HDL  LDL    Cr  BUN  Diagnosis\n",
       "0   50      F   24   4.2  0.9  2.4  1.4  46.0  4.7          0\n",
       "1   26      M   23   3.7  1.4  1.1  2.1  62.0  4.5          0\n",
       "2   33      M   21   4.9  1.0  0.8  2.0  46.0  7.1          0\n",
       "3   45      F   21   2.9  1.0  1.0  1.5  24.0  2.3          0\n",
       "4   50      F   24   3.6  1.3  0.9  2.1  50.0  2.0          0"
      ]
     },
     "execution_count": 6,
     "metadata": {},
     "output_type": "execute_result"
    }
   ],
   "source": [
    "\n",
    "# Remove unnamed or index columns\n",
    "df=df.loc[:, ~df.columns.str.contains('^Unnamed')]\n",
    "\n",
    "#Cleaned columns\n",
    "clean_columns = df.shape[1]\n",
    "print(f\"Number of clean columns: {clean_columns}\")\n",
    "\n",
    "df.head()\n"
   ]
  },
  {
   "cell_type": "markdown",
   "metadata": {},
   "source": [
    "# Answer 1b\n",
    "Data types present in our data"
   ]
  },
  {
   "cell_type": "code",
   "execution_count": 8,
   "metadata": {},
   "outputs": [
    {
     "data": {
      "text/plain": [
       "Age            int64\n",
       "Gender        object\n",
       "BMI            int64\n",
       "Chol         float64\n",
       "TG           float64\n",
       "HDL          float64\n",
       "LDL          float64\n",
       "Cr           float64\n",
       "BUN          float64\n",
       "Diagnosis      int64\n",
       "dtype: object"
      ]
     },
     "execution_count": 8,
     "metadata": {},
     "output_type": "execute_result"
    }
   ],
   "source": [
    "df.dtypes"
   ]
  },
  {
   "cell_type": "markdown",
   "metadata": {},
   "source": [
    "# Answer 1c\n",
    "Statistical summary for our data"
   ]
  },
  {
   "cell_type": "code",
   "execution_count": 10,
   "metadata": {},
   "outputs": [
    {
     "data": {
      "text/html": [
       "<div>\n",
       "<style scoped>\n",
       "    .dataframe tbody tr th:only-of-type {\n",
       "        vertical-align: middle;\n",
       "    }\n",
       "\n",
       "    .dataframe tbody tr th {\n",
       "        vertical-align: top;\n",
       "    }\n",
       "\n",
       "    .dataframe thead th {\n",
       "        text-align: right;\n",
       "    }\n",
       "</style>\n",
       "<table border=\"1\" class=\"dataframe\">\n",
       "  <thead>\n",
       "    <tr style=\"text-align: right;\">\n",
       "      <th></th>\n",
       "      <th>Age</th>\n",
       "      <th>BMI</th>\n",
       "      <th>Chol</th>\n",
       "      <th>TG</th>\n",
       "      <th>HDL</th>\n",
       "      <th>LDL</th>\n",
       "      <th>Cr</th>\n",
       "      <th>BUN</th>\n",
       "    </tr>\n",
       "  </thead>\n",
       "  <tbody>\n",
       "    <tr>\n",
       "      <th>count</th>\n",
       "      <td>5132.000000</td>\n",
       "      <td>5132.000000</td>\n",
       "      <td>5132.000000</td>\n",
       "      <td>5132.000000</td>\n",
       "      <td>5132.000000</td>\n",
       "      <td>5132.000000</td>\n",
       "      <td>5132.000000</td>\n",
       "      <td>5132.000000</td>\n",
       "    </tr>\n",
       "    <tr>\n",
       "      <th>mean</th>\n",
       "      <td>48.950312</td>\n",
       "      <td>24.613406</td>\n",
       "      <td>4.866882</td>\n",
       "      <td>1.719328</td>\n",
       "      <td>1.593305</td>\n",
       "      <td>2.914121</td>\n",
       "      <td>71.144800</td>\n",
       "      <td>4.896969</td>\n",
       "    </tr>\n",
       "    <tr>\n",
       "      <th>std</th>\n",
       "      <td>14.048794</td>\n",
       "      <td>4.277205</td>\n",
       "      <td>1.001052</td>\n",
       "      <td>1.327057</td>\n",
       "      <td>1.038849</td>\n",
       "      <td>0.945423</td>\n",
       "      <td>28.494394</td>\n",
       "      <td>1.689206</td>\n",
       "    </tr>\n",
       "    <tr>\n",
       "      <th>min</th>\n",
       "      <td>20.000000</td>\n",
       "      <td>15.000000</td>\n",
       "      <td>0.000000</td>\n",
       "      <td>0.000000</td>\n",
       "      <td>0.000000</td>\n",
       "      <td>0.300000</td>\n",
       "      <td>4.860753</td>\n",
       "      <td>0.500000</td>\n",
       "    </tr>\n",
       "    <tr>\n",
       "      <th>25%</th>\n",
       "      <td>36.000000</td>\n",
       "      <td>22.000000</td>\n",
       "      <td>4.190000</td>\n",
       "      <td>0.910000</td>\n",
       "      <td>1.090000</td>\n",
       "      <td>2.290000</td>\n",
       "      <td>58.000000</td>\n",
       "      <td>3.900000</td>\n",
       "    </tr>\n",
       "    <tr>\n",
       "      <th>50%</th>\n",
       "      <td>49.000000</td>\n",
       "      <td>24.000000</td>\n",
       "      <td>4.800000</td>\n",
       "      <td>1.380000</td>\n",
       "      <td>1.300000</td>\n",
       "      <td>2.790000</td>\n",
       "      <td>70.200000</td>\n",
       "      <td>4.720000</td>\n",
       "    </tr>\n",
       "    <tr>\n",
       "      <th>75%</th>\n",
       "      <td>59.000000</td>\n",
       "      <td>27.000000</td>\n",
       "      <td>5.460000</td>\n",
       "      <td>2.100000</td>\n",
       "      <td>1.590000</td>\n",
       "      <td>3.400000</td>\n",
       "      <td>81.600000</td>\n",
       "      <td>5.600000</td>\n",
       "    </tr>\n",
       "    <tr>\n",
       "      <th>max</th>\n",
       "      <td>93.000000</td>\n",
       "      <td>47.000000</td>\n",
       "      <td>11.650000</td>\n",
       "      <td>32.640000</td>\n",
       "      <td>9.900000</td>\n",
       "      <td>9.900000</td>\n",
       "      <td>800.000000</td>\n",
       "      <td>38.900000</td>\n",
       "    </tr>\n",
       "  </tbody>\n",
       "</table>\n",
       "</div>"
      ],
      "text/plain": [
       "               Age          BMI         Chol           TG          HDL  \\\n",
       "count  5132.000000  5132.000000  5132.000000  5132.000000  5132.000000   \n",
       "mean     48.950312    24.613406     4.866882     1.719328     1.593305   \n",
       "std      14.048794     4.277205     1.001052     1.327057     1.038849   \n",
       "min      20.000000    15.000000     0.000000     0.000000     0.000000   \n",
       "25%      36.000000    22.000000     4.190000     0.910000     1.090000   \n",
       "50%      49.000000    24.000000     4.800000     1.380000     1.300000   \n",
       "75%      59.000000    27.000000     5.460000     2.100000     1.590000   \n",
       "max      93.000000    47.000000    11.650000    32.640000     9.900000   \n",
       "\n",
       "               LDL           Cr          BUN  \n",
       "count  5132.000000  5132.000000  5132.000000  \n",
       "mean      2.914121    71.144800     4.896969  \n",
       "std       0.945423    28.494394     1.689206  \n",
       "min       0.300000     4.860753     0.500000  \n",
       "25%       2.290000    58.000000     3.900000  \n",
       "50%       2.790000    70.200000     4.720000  \n",
       "75%       3.400000    81.600000     5.600000  \n",
       "max       9.900000   800.000000    38.900000  "
      ]
     },
     "execution_count": 10,
     "metadata": {},
     "output_type": "execute_result"
    }
   ],
   "source": [
    "#Drop the diagnosis column as it relates to categorical data\n",
    "df_num= df.drop(columns=['Diagnosis'])\n",
    "\n",
    "#Generate summary\n",
    "df_num.describe()"
   ]
  },
  {
   "cell_type": "markdown",
   "metadata": {},
   "source": [
    "### Question 2: Data Filtering and Analysis\n",
    "- **a.** How many individuals are diagnosed with diabetes (where the 'Diagnosis' column is 1)? \n",
    "- **b.** Filter the dataset to include only individuals with a Body Mass Index (BMI) over 25 and calculate the average cholesterol level for this group.\n",
    "- **c.** Identify the gender distribution within the dataset: how many males and females are there?\n"
   ]
  },
  {
   "cell_type": "markdown",
   "metadata": {},
   "source": [
    "# Answer 2a\n",
    "- Individuals diagnosed with Diabetes"
   ]
  },
  {
   "cell_type": "code",
   "execution_count": 13,
   "metadata": {},
   "outputs": [
    {
     "name": "stdout",
     "output_type": "stream",
     "text": [
      "Total number of individuals with diabetes is 1993\n"
     ]
    }
   ],
   "source": [
    "#where the 'Diagnosis' column is 1\n",
    "\n",
    "Diabetic= df[df['Diagnosis'] == 1].shape[0]\n",
    "\n",
    "print(\"Total number of individuals with diabetes is\", (Diabetic))"
   ]
  },
  {
   "cell_type": "markdown",
   "metadata": {},
   "source": [
    "# Answer 2b\n",
    "- Individuals with BMI 25+\n",
    "- Average cholesterol for these individuals"
   ]
  },
  {
   "cell_type": "code",
   "execution_count": 15,
   "metadata": {},
   "outputs": [
    {
     "name": "stdout",
     "output_type": "stream",
     "text": [
      "     Age Gender  BMI  Chol   TG  HDL  LDL    Cr  BUN  Diagnosis\n",
      "125   40      F   30   2.1  2.3  0.9  2.8  52.0  2.1          0\n",
      "126   40      M   31   6.5  3.8  1.0  3.9  64.0  3.4          0\n",
      "127   35      F   32   4.0  2.5  1.3  2.3  37.0  4.4          0\n",
      "129   43      M   29   4.3  1.8  1.6  1.9  60.0  4.4          0\n",
      "131   54      M   28   4.4  2.9  0.6  2.5  88.0  4.0          0\n",
      "Average cholesterol level for individuals with over 25 BMI= 5.002230568460308\n"
     ]
    }
   ],
   "source": [
    "#Filter the dataset to include only individuals with a Body Mass Index (BMI) over 25\n",
    "over_25_bmi= df[df['BMI'] >25]\n",
    "print(over_25_bmi.head())\n",
    "\n",
    "#calculate the average cholesterol level for this group.\n",
    "avg_chol= over_25_bmi['Chol'].mean()\n",
    "\n",
    "print(\"Average cholesterol level for individuals with over 25 BMI=\", (avg_chol))"
   ]
  },
  {
   "cell_type": "code",
   "execution_count": null,
   "metadata": {},
   "outputs": [],
   "source": []
  },
  {
   "cell_type": "markdown",
   "metadata": {},
   "source": [
    "# Answer 2c\n",
    "- Gender Distribution of the dataset(male/female)"
   ]
  },
  {
   "cell_type": "code",
   "execution_count": 17,
   "metadata": {},
   "outputs": [
    {
     "name": "stdout",
     "output_type": "stream",
     "text": [
      "Original Gender\n",
      "M    3256\n",
      "F    1875\n",
      "f       1\n",
      "Name: count, dtype: int64\n",
      "Actual Gender\n",
      "m    3256\n",
      "f    1876\n",
      "Name: count, dtype: int64\n"
     ]
    },
    {
     "name": "stderr",
     "output_type": "stream",
     "text": [
      "C:\\Users\\User 1\\AppData\\Local\\Temp\\ipykernel_1756\\1592564015.py:5: FutureWarning: DataFrame.applymap has been deprecated. Use DataFrame.map instead.\n",
      "  df= df.applymap(lambda s: s.lower() if type(s) == str else s)\n"
     ]
    }
   ],
   "source": [
    "gender= df['Gender'].value_counts()\n",
    "print(f\"Original {gender}\")\n",
    "\n",
    "#Correct the entries by converting all string values to lowercase\n",
    "df= df.applymap(lambda s: s.lower() if type(s) == str else s)\n",
    "\n",
    "gender2= df['Gender'].value_counts()\n",
    "\n",
    "print(f\"Actual {gender2}\")\n",
    "            "
   ]
  },
  {
   "cell_type": "code",
   "execution_count": 18,
   "metadata": {},
   "outputs": [
    {
     "data": {
      "image/png": "[encoded data removed]",
      "text/plain": [
       "<Figure size 800x600 with 1 Axes>"
      ]
     },
     "metadata": {},
     "output_type": "display_data"
    }
   ],
   "source": [
    "#Draw a visualization for gender distribution\n",
    "import matplotlib.pyplot as plt\n",
    "\n",
    "plt.figure(figsize=(8, 6))\n",
    "\n",
    "gender2.plot(\n",
    "    kind='pie', \n",
    "    autopct='%1.1f%%', \n",
    "    startangle=140, \n",
    "    colors=[ '#66b3ff', '#ff9999'],\n",
    "    labels=['', '']\n",
    ")\n",
    "\n",
    "# Add a title and legend\n",
    "plt.title('Gender Distribution')\n",
    "plt.legend(labels=['Male', 'Female'], loc= 'upper right')\n",
    "plt.ylabel('')\n",
    "plt.show()\n"
   ]
  },
  {
   "cell_type": "markdown",
   "metadata": {},
   "source": [
    "### Question 3: Advanced Filtering and Conditional Analysis\n",
    "- **a.** For individuals with diabetes, what is the average age for each gender? Use the 'Diagnosis' column to filter for diabetes.\n",
    "- **b.** Find the average Creatinine (Cr) levels for males and females. Is there a noticeable difference between genders?\n",
    "- **c.** Among individuals without diabetes, identify those with high triglyceride levels (TG > 1.5) and calculate the average LDL levels for this group."
   ]
  },
  {
   "cell_type": "markdown",
   "metadata": {},
   "source": [
    "# Answer 3a\n",
    "Average age per gender for Diabetic Individuals"
   ]
  },
  {
   "cell_type": "code",
   "execution_count": 21,
   "metadata": {},
   "outputs": [
    {
     "name": "stdout",
     "output_type": "stream",
     "text": [
      "Average age per gender for diabetic individuals isGender\n",
      "f    58.411609\n",
      "m    58.067206\n",
      "Name: Age, dtype: float64\n"
     ]
    }
   ],
   "source": [
    "#filter Diagnosis column where diabetic individuals = 1\n",
    "diabetes_df = df[df['Diagnosis'] == 1]\n",
    "\n",
    "# Average age for each gender\n",
    "average_age_gender = diabetes_df.groupby('Gender')['Age'].mean()\n",
    "\n",
    "print(f\"Average age per gender for diabetic individuals is{average_age_gender}\",)"
   ]
  },
  {
   "cell_type": "markdown",
   "metadata": {},
   "source": [
    "# Answer 3b\n",
    "Average Creatinine (Cr) levels for males and females"
   ]
  },
  {
   "cell_type": "code",
   "execution_count": 23,
   "metadata": {},
   "outputs": [
    {
     "name": "stdout",
     "output_type": "stream",
     "text": [
      "Average Creatinine levels per  Gender\n",
      "f    57.846691\n",
      "m    78.806733\n",
      "Name: Cr, dtype: float64\n"
     ]
    }
   ],
   "source": [
    "average_cr_levels = df.groupby('Gender')['Cr'].mean()\n",
    "print(\"Average Creatinine levels per \", average_cr_levels)"
   ]
  },
  {
   "cell_type": "markdown",
   "metadata": {},
   "source": [
    "### Is there a noticeable difference between genders?"
   ]
  },
  {
   "cell_type": "markdown",
   "metadata": {},
   "source": [
    "Yes, males have higher creatinine levels at 78.81 while females have 57.85 on average. This is due to the fact that women have lower musce mass than men with the normal levels being between 53-97.2 while for men 61.9-114.9. The higher the creatinine levels, the higher the risk of diabetes."
   ]
  },
  {
   "cell_type": "markdown",
   "metadata": {},
   "source": [
    "# Answer 3c\n",
    "- Individuals without diabetes, identify those with high triglyceride levels (TG > 1.5)\n",
    "- Calculate the average LDL levels for this group"
   ]
  },
  {
   "cell_type": "code",
   "execution_count": 27,
   "metadata": {},
   "outputs": [
    {
     "name": "stdout",
     "output_type": "stream",
     "text": [
      "    Age Gender  BMI  Chol   TG  HDL  LDL     Cr   BUN  Diagnosis\n",
      "7    32      f   24   3.8  2.0  2.4  3.8   28.0   3.6          0\n",
      "11   45      f   23   4.2  1.7  1.2  2.2   54.0   4.6          0\n",
      "17   49      f   24   0.5  1.9  1.3  2.8  175.0  13.5          0\n",
      "23   30      m   19   5.5  1.8  1.2  3.5   80.0   4.8          0\n",
      "24   41      m   22   2.8  2.9  0.8  3.8   99.0   4.2          0\n",
      "Average ldl for this group is 2.9291\n"
     ]
    }
   ],
   "source": [
    "#Filter the data for individuals without diabetes\n",
    "\n",
    "without_diabetes= df[df['Diagnosis'] == 0]\n",
    "\n",
    "#Individuals without diabetes and have high triglyceride levels i.e>1.5\n",
    "high_tg= without_diabetes[without_diabetes['TG'] > 1.5]\n",
    "\n",
    "print(high_tg.head())\n",
    "\n",
    "#Average LDL for high_tg\n",
    "\n",
    "avg_ldl= round(high_tg['LDL'].mean(),4)\n",
    "print(\"Average ldl for this group is\", (avg_ldl))"
   ]
  },
  {
   "cell_type": "markdown",
   "metadata": {},
   "source": [
    "### Question 4: Data Aggregation and Grouping\n",
    "- **a.** Group the dataset by 'Diagnosis' and calculate the mean for all numerical columns. What insights can you gather about the differences between individuals with and without diabetes?\n",
    "- **b.** For each BMI category (underweight < 18.5, normal weight 18.5–24.9, overweight 25–29.9, obese ≥30), calculate the average cholesterol level. How does BMI affect cholesterol levels based on this dataset?\n",
    "- **c.** Group the data by 'Gender' and 'Diagnosis', and find the average age in each group. What trends can you observe regarding age, gender, and diabetes diagnosis?\n"
   ]
  },
  {
   "cell_type": "markdown",
   "metadata": {},
   "source": [
    "# Answer 4a\n",
    "- Group by Diagnosis column"
   ]
  },
  {
   "cell_type": "code",
   "execution_count": 30,
   "metadata": {},
   "outputs": [
    {
     "name": "stdout",
     "output_type": "stream",
     "text": [
      "                 Age        BMI      Chol        TG       HDL       LDL  \\\n",
      "Diagnosis                                                                 \n",
      "0          43.078687  23.156419  4.762265  1.463711  1.337069  2.740436   \n",
      "1          58.198194  26.908179  5.031656  2.121927  1.996879  3.187675   \n",
      "\n",
      "                  Cr       BUN  \n",
      "Diagnosis                       \n",
      "0          71.991555  4.718308  \n",
      "1          69.811152  5.178362  \n"
     ]
    }
   ],
   "source": [
    "# Select only numerical columns\n",
    "numerical_columns = df.select_dtypes(include=['float64', 'int64'])\n",
    "\n",
    "# Add the 'Diagnosis' column back\n",
    "numerical_columns['Diagnosis'] = df['Diagnosis']\n",
    "\n",
    "# Group by 'Diagnosis' and calculate the average\n",
    "diagnosis_group_mean = numerical_columns.groupby('Diagnosis').mean()\n",
    "print( diagnosis_group_mean)\n"
   ]
  },
  {
   "cell_type": "markdown",
   "metadata": {},
   "source": [
    "#### What insights can you gather about the differences between individuals with and without diabetes?"
   ]
  },
  {
   "cell_type": "markdown",
   "metadata": {},
   "source": [
    "Individuals with diabetes:\n",
    "- Are much older with an average age of 58 versus 43 years for non-diabetics\n",
    "- Have a higher BMI which is an indicator of diabetes in this case as compared to non-diabetics with lower BMI\n",
    "- Have high cholesterol levels, which indicate lots of fat presence in the blood\n",
    "- Have high TGI levels\n",
    "- Have high HDL levels\n",
    "- Have high LDL levels\n",
    "- Have lower creatinine levels\n",
    "- Have high BUN levels since the kidneys and liver are affected resulting in diabetes"
   ]
  },
  {
   "cell_type": "markdown",
   "metadata": {},
   "source": [
    "# Answer 4b\n",
    "- Calculate the average cholesterol level for each BMI category (underweight < 18.5, normal weight 18.5–24.9, overweight 25–29.9, obese ≥30)"
   ]
  },
  {
   "cell_type": "code",
   "execution_count": 34,
   "metadata": {},
   "outputs": [
    {
     "name": "stdout",
     "output_type": "stream",
     "text": [
      "Average cholesterol level for each BMI category BMI Category\n",
      "Normal weight    4.802203\n",
      "Obese            4.969413\n",
      "Overweight       4.986071\n",
      "Underweight      4.436639\n",
      "Name: Chol, dtype: float64\n"
     ]
    }
   ],
   "source": [
    "# Define BMI categories\n",
    "def bmi_category(bmi):\n",
    "    if bmi < 18.5:\n",
    "        return 'Underweight'\n",
    "    elif 18.5 <= bmi < 25:\n",
    "        return 'Normal weight'\n",
    "    elif 25 <= bmi < 30:\n",
    "        return 'Overweight'\n",
    "    else:\n",
    "        return 'Obese'\n",
    "\n",
    "# Apply BMI categories\n",
    "df['BMI Category'] = df['BMI'].apply(bmi_category)\n",
    "\n",
    "# Average cholesterol level for each BMI category\n",
    "avg_cholesterol_bmi = df.groupby('BMI Category')['Chol'].mean()\n",
    "print(\"Average cholesterol level for each BMI category\", avg_cholesterol_bmi)\n"
   ]
  },
  {
   "cell_type": "markdown",
   "metadata": {},
   "source": [
    "### How does BMI affect cholesterol levels based on this dataset?"
   ]
  },
  {
   "cell_type": "markdown",
   "metadata": {},
   "source": [
    "Individuals with higher BMI have higher cholesterol levels indicating a positive relationship. Therefore, as bmi increases so does the cholesterol level."
   ]
  },
  {
   "cell_type": "markdown",
   "metadata": {},
   "source": [
    "# Answer 4c\n",
    "- Group the data by 'Gender' and 'Diagnosis', and find the average age in each group"
   ]
  },
  {
   "cell_type": "code",
   "execution_count": 38,
   "metadata": {},
   "outputs": [
    {
     "data": {
      "text/plain": [
       "Gender  Diagnosis\n",
       "f       0            42.849732\n",
       "        1            58.411609\n",
       "m       0            43.205344\n",
       "        1            58.067206\n",
       "Name: Age, dtype: float64"
      ]
     },
     "execution_count": 38,
     "metadata": {},
     "output_type": "execute_result"
    }
   ],
   "source": [
    "df.groupby(['Gender', 'Diagnosis'])['Age'].mean()"
   ]
  },
  {
   "cell_type": "markdown",
   "metadata": {},
   "source": [
    "### What trends can you observe regarding age, gender, and diabetes diagnosis?"
   ]
  },
  {
   "cell_type": "markdown",
   "metadata": {},
   "source": [
    "Gender has negligible effect on the diagnosis as compared to age. The average age for  individuals in both genders is 58 years for diabetic individuals and 43 years for non diabetic individuals"
   ]
  },
  {
   "cell_type": "code",
   "execution_count": null,
   "metadata": {},
   "outputs": [],
   "source": []
  }
 ],
 "metadata": {
  "kernelspec": {
   "display_name": "Python 3 (ipykernel)",
   "language": "python",
   "name": "python3"
  },
  "language_info": {
   "codemirror_mode": {
    "name": "ipython",
    "version": 3
   },
   "file_extension": ".py",
   "mimetype": "text/x-python",
   "name": "python",
   "nbconvert_exporter": "python",
   "pygments_lexer": "ipython3",
   "version": "3.12.7"
  }
 },
 "nbformat": 4,
 "nbformat_minor": 4
}
